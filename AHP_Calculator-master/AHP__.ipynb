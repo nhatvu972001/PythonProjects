{
 "cells": [
  {
   "cell_type": "code",
   "execution_count": 1,
   "id": "159070a7",
   "metadata": {},
   "outputs": [],
   "source": [
    "from ahp_calculator import ahp_calculator "
   ]
  },
  {
   "cell_type": "code",
   "execution_count": 2,
   "id": "aedf412b",
   "metadata": {},
   "outputs": [
    {
     "data": {
      "text/html": [
       "<style>\n",
       "        .params_label { background: rgba(0,0,0,0.1); text-align:center;}\n",
       "        .calculate_button { color: green; margin-top:20px;}\n",
       "        </style>"
      ],
      "text/plain": [
       "<IPython.core.display.HTML object>"
      ]
     },
     "metadata": {},
     "output_type": "display_data"
    },
    {
     "data": {
      "application/vnd.jupyter.widget-view+json": {
       "model_id": "b69be48f5a864ea19530bc1c5a8909e0",
       "version_major": 2,
       "version_minor": 0
      },
      "text/plain": [
       "VBox(children=(Label(value='Enter all params in comma seperated form. eg: River,Road,Settlement,Slop'), HBox(c…"
      ]
     },
     "execution_count": 2,
     "metadata": {},
     "output_type": "execute_result"
    }
   ],
   "source": [
    "from ahp_calculator import ahp_calculator \n",
    "\n",
    "AC=ahp_calculator()\n",
    "AC.open_calculator()"
   ]
  },
  {
   "cell_type": "code",
   "execution_count": null,
   "id": "df320923",
   "metadata": {},
   "outputs": [],
   "source": []
  }
 ],
 "metadata": {
  "kernelspec": {
   "display_name": "Python 3 (ipykernel)",
   "language": "python",
   "name": "python3"
  },
  "language_info": {
   "codemirror_mode": {
    "name": "ipython",
    "version": 3
   },
   "file_extension": ".py",
   "mimetype": "text/x-python",
   "name": "python",
   "nbconvert_exporter": "python",
   "pygments_lexer": "ipython3",
   "version": "3.10.2"
  }
 },
 "nbformat": 4,
 "nbformat_minor": 5
}
